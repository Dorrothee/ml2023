{
 "cells": [
  {
   "cell_type": "markdown",
   "metadata": {},
   "source": [
    "# Лабораторна робота №1\n",
    "### Студентки групи МІТ-31 (підгрупа 1)\n",
    "### Борук Дарини Ігорівни"
   ]
  },
  {
   "cell_type": "code",
   "execution_count": 1,
   "metadata": {},
   "outputs": [
    {
     "ename": "ModuleNotFoundError",
     "evalue": "No module named 'numpy'",
     "output_type": "error",
     "traceback": [
      "\u001b[1;31m---------------------------------------------------------------------------\u001b[0m",
      "\u001b[1;31mModuleNotFoundError\u001b[0m                       Traceback (most recent call last)",
      "\u001b[1;32mc:\\university\\3year\\intelan\\ml2023\\Lab1\\lab1.ipynb Cell 2\u001b[0m line \u001b[0;36m1\n\u001b[1;32m----> <a href='vscode-notebook-cell:/c%3A/university/3year/intelan/ml2023/Lab1/lab1.ipynb#W2sZmlsZQ%3D%3D?line=0'>1</a>\u001b[0m \u001b[39mimport\u001b[39;00m \u001b[39mnumpy\u001b[39;00m \u001b[39mas\u001b[39;00m \u001b[39mnp\u001b[39;00m\n\u001b[0;32m      <a href='vscode-notebook-cell:/c%3A/university/3year/intelan/ml2023/Lab1/lab1.ipynb#W2sZmlsZQ%3D%3D?line=2'>3</a>\u001b[0m simple_arr \u001b[39m=\u001b[39m np\u001b[39m.\u001b[39marray([\u001b[39m3\u001b[39m, \u001b[39m13\u001b[39m, \u001b[39m23\u001b[39m, \u001b[39m33\u001b[39m, \u001b[39m43\u001b[39m, \u001b[39m53\u001b[39m, \u001b[39m63\u001b[39m, \u001b[39m73\u001b[39m, \u001b[39m83\u001b[39m, \u001b[39m93\u001b[39m, \u001b[39m103\u001b[39m])\n\u001b[0;32m      <a href='vscode-notebook-cell:/c%3A/university/3year/intelan/ml2023/Lab1/lab1.ipynb#W2sZmlsZQ%3D%3D?line=3'>4</a>\u001b[0m \u001b[39mprint\u001b[39m(simple_arr)\n",
      "\u001b[1;31mModuleNotFoundError\u001b[0m: No module named 'numpy'"
     ]
    }
   ],
   "source": [
    "#%pip install numpy\n",
    "import numpy as np\n",
    "\n",
    "simple_arr = np.array([3, 13, 23, 33, 43, 53, 63, 73, 83, 93, 103])\n",
    "print(simple_arr)\n"
   ]
  }
 ],
 "metadata": {
  "kernelspec": {
   "display_name": "juppyenv",
   "language": "python",
   "name": "python3"
  },
  "language_info": {
   "codemirror_mode": {
    "name": "ipython",
    "version": 3
   },
   "file_extension": ".py",
   "mimetype": "text/x-python",
   "name": "python",
   "nbconvert_exporter": "python",
   "pygments_lexer": "ipython3",
   "version": "3.10.13"
  },
  "orig_nbformat": 4
 },
 "nbformat": 4,
 "nbformat_minor": 2
}
